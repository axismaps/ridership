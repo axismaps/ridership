{
 "cells": [
  {
   "cell_type": "markdown",
   "metadata": {},
   "source": [
    "## Import required libraries:"
   ]
  },
  {
   "cell_type": "code",
   "execution_count": 33,
   "metadata": {},
   "outputs": [],
   "source": [
    "import pandas as pd"
   ]
  },
  {
   "cell_type": "markdown",
   "metadata": {},
   "source": [
    "## Load the excel data:"
   ]
  },
  {
   "cell_type": "code",
   "execution_count": 71,
   "metadata": {},
   "outputs": [],
   "source": [
    "ta = pd.read_excel('data/meta/Transit_Agencies_for_Visualization.xlsx', \n",
    "                   sheet_name='TC AgencyList')\n",
    "ntd22 = pd.read_excel('data/ntd/TS2.2TimeSeriesSysWideOpexpSvc_2.xlsx', \n",
    "                      sheet_name=['UPT', 'VRM', 'FARES', 'VRH'])\n",
    "ntd21 = pd.read_excel('data/ntd/TS2.1TimeSeriesOpExpSvcModeTOS_3.xlsx', \n",
    "                      sheet_name='UPT')"
   ]
  },
  {
   "cell_type": "markdown",
   "metadata": {},
   "source": [
    "## Filter data:"
   ]
  },
  {
   "cell_type": "code",
   "execution_count": 72,
   "metadata": {},
   "outputs": [],
   "source": [
    "# Remove missing NTD ID's\n",
    "ta = ta.dropna(how='all')\n",
    "ntd21 = ntd21.dropna(subset=['NTD ID'])\n",
    "\n",
    "total = ntd22['UPT'].dropna(subset=['NTD ID'])\n",
    "vrm = ntd22['VRM'].dropna(subset=['NTD ID'])\n",
    "fares = ntd22['FARES'].dropna(subset=['NTD ID'])\n",
    "vrh = ntd22['VRH'].dropna(subset=['NTD ID'])\n",
    "\n",
    "def filterByMode(df, modes):\n",
    "    return df[df['Mode'].isin(modes)]\n",
    "\n",
    "# Filter bus data by required modes\n",
    "bus_modes = ['MB', 'RB', 'CB', 'TB']\n",
    "bus = filterByMode(ntd21, bus_modes)\n",
    "\n",
    "rail_modes = ['CC', 'CR', 'HR', 'LR', 'MG', 'SR', 'YR']\n",
    "rail = filterByMode(ntd21, rail_modes)"
   ]
  },
  {
   "cell_type": "markdown",
   "metadata": {},
   "source": [
    "## Clean the data:"
   ]
  },
  {
   "cell_type": "code",
   "execution_count": 73,
   "metadata": {
    "scrolled": true
   },
   "outputs": [],
   "source": [
    "# Combine project ID's\n",
    "ta['Project ID'] = ta['Project ID'].combine_first(ta['\"Other\" primary Project ID']).astype('int32')\n",
    "\n",
    "# Drop unused columns\n",
    "col22 = ['Last Report Year', 'Legacy NTD ID', 'Agency Name', 'Agency Status', \n",
    "         'Reporter Type', 'City', 'State', 'Census Year', 'Primary UZA Name', \n",
    "         'UZA', 'UZA Area SQ Miles', 'UZA Population', '2017 Status']\n",
    "col21 = ['Last Report Year', 'Legacy NTD ID', 'Agency Name', 'Agency Status',\n",
    "        'Reporter Type', 'City', 'State', 'Census Year', 'UZA Name', 'Mode', 'Service',\n",
    "        'Mode Status', 'UZA', 'UZA Area SQ Miles', 'UZA Population', '2017 Status']\n",
    "\n",
    "ta_clean = ta.drop(columns=['ShowIndividual', '\"Other\" primary Project ID', 'Primary UZA',\n",
    "                            'UZA Name', 'Agency Name', 'Reporter Acronym'])\n",
    "\n",
    "total_clean = total.drop(columns=col22)\n",
    "vrm_clean = vrm.drop(columns=col22)\n",
    "fares_clean = fares.drop(columns=col22)\n",
    "vrh_clean = vrh.drop(columns=col22)\n",
    "\n",
    "bus_clean = bus.drop(columns=col21)\n",
    "rail_clean = rail.drop(columns=col21)"
   ]
  },
  {
   "cell_type": "markdown",
   "metadata": {},
   "source": [
    "## Merge the data and calculate derived values:"
   ]
  },
  {
   "cell_type": "code",
   "execution_count": 79,
   "metadata": {},
   "outputs": [],
   "source": [
    "def ntd_merge(df, name):    \n",
    "    # Merge dataframes\n",
    "    merge = pd.merge(ta_clean, df, how='left', on='NTD ID')\n",
    "    group = merge.drop(columns=['NTD ID']).groupby('Project ID')\n",
    "    \n",
    "    # Sum, stack, and export to CSV\n",
    "    stack = group.sum().stack()\n",
    "    return stack.astype('int64').rename(name)\n",
    "    \n",
    "datasets = {\n",
    "    'total': upt_clean,\n",
    "    'bus': bus_clean,\n",
    "    'rail': rail_clean,\n",
    "    'vrm': vrm_clean,\n",
    "    'total_fares': fares_clean,\n",
    "    'vrh': vrh_clean\n",
    "}\n",
    "\n",
    "for name, df in datasets.iteritems():\n",
    "    datasets[name] = ntd_merge(df, name)\n",
    "    \n",
    "# Average fares\n",
    "datasets['fares'] = pd.Series(datasets['total_fares'] / datasets['total'], name='fares')\n",
    "del datasets['total_fares']\n",
    "\n",
    "# Average speed\n",
    "datasets['speed'] = pd.Series(datasets['vrm'] / datasets['vrh'], name='speed')\n",
    "del datasets['vrh']"
   ]
  },
  {
   "cell_type": "markdown",
   "metadata": {},
   "source": [
    "## Export to CSV:"
   ]
  },
  {
   "cell_type": "code",
   "execution_count": 80,
   "metadata": {},
   "outputs": [],
   "source": [
    "pd.concat(datasets.values(), axis=1).to_csv('data/output/ntd.csv', index_label=['id', 'year'])"
   ]
  }
 ],
 "metadata": {
  "kernelspec": {
   "display_name": "Python 2",
   "language": "python",
   "name": "python2"
  },
  "language_info": {
   "codemirror_mode": {
    "name": "ipython",
    "version": 2
   },
   "file_extension": ".py",
   "mimetype": "text/x-python",
   "name": "python",
   "nbconvert_exporter": "python",
   "pygments_lexer": "ipython2",
   "version": "2.7.15"
  }
 },
 "nbformat": 4,
 "nbformat_minor": 2
}
