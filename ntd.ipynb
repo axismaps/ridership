{
 "cells": [
  {
   "cell_type": "markdown",
   "metadata": {},
   "source": [
    "## Import required libraries:"
   ]
  },
  {
   "cell_type": "code",
   "execution_count": 33,
   "metadata": {},
   "outputs": [],
   "source": [
    "import pandas as pd"
   ]
  },
  {
   "cell_type": "markdown",
   "metadata": {},
   "source": [
    "## Load the excel data:"
   ]
  },
  {
   "cell_type": "code",
   "execution_count": 145,
   "metadata": {},
   "outputs": [],
   "source": [
    "ta = pd.read_excel('data/meta/Transit_Agencies_for_Visualization.xlsx', \n",
    "                   sheet_name='TC AgencyList')\n",
    "ntd22_raw = pd.read_excel('data/ntd/TS2.2TimeSeriesSysWideOpexpSvc_2.xlsx', \n",
    "                          sheet_name=['UPT', 'VRM', 'FARES', 'VRH', 'Total OE',\n",
    "                                      'DRM', 'VOMS', 'PMT'])\n",
    "ntd21_raw = pd.read_excel('data/ntd/TS2.1TimeSeriesOpExpSvcModeTOS_3.xlsx', \n",
    "                      sheet_name='UPT')"
   ]
  },
  {
   "cell_type": "markdown",
   "metadata": {},
   "source": [
    "## Process data:"
   ]
  },
  {
   "cell_type": "code",
   "execution_count": 146,
   "metadata": {},
   "outputs": [],
   "source": [
    "# Remove missing NTD ID's\n",
    "ta = ta.dropna(how='all')\n",
    "\n",
    "ntd21 = {}\n",
    "ntd22 = {}\n",
    "\n",
    "ntd21_raw = ntd21_raw.dropna(subset=['NTD ID'])\n",
    "for i in ntd22_raw:\n",
    "    ntd22[i] = ntd22_raw[i].dropna(subset=['NTD ID'])\n",
    "\n",
    "def filterByMode(df, modes):\n",
    "    return df[df['Mode'].isin(modes)]\n",
    "\n",
    "# Filter bus data by required modes\n",
    "bus_modes = ['MB', 'RB', 'CB', 'TB']\n",
    "ntd21['bus'] = filterByMode(ntd21_raw, bus_modes)\n",
    "\n",
    "rail_modes = ['CC', 'CR', 'HR', 'LR', 'MG', 'SR', 'YR']\n",
    "ntd21['rail'] = filterByMode(ntd21_raw, rail_modes)\n",
    "\n",
    "# Combine project ID's\n",
    "ta['Project ID'] = ta['Project ID'].combine_first(ta['\"Other\" primary Project ID']).astype('int32')\n",
    "\n",
    "# Drop unused columns\n",
    "col22 = ['Last Report Year', 'Legacy NTD ID', 'Agency Name', 'Agency Status', \n",
    "         'Reporter Type', 'City', 'State', 'Census Year', 'Primary UZA Name', \n",
    "         'UZA', 'UZA Area SQ Miles', 'UZA Population', '2017 Status']\n",
    "col21 = ['Last Report Year', 'Legacy NTD ID', 'Agency Name', 'Agency Status',\n",
    "        'Reporter Type', 'City', 'State', 'Census Year', 'UZA Name', 'Mode', 'Service',\n",
    "        'Mode Status', 'UZA', 'UZA Area SQ Miles', 'UZA Population', '2017 Status']\n",
    "\n",
    "ta_clean = ta.drop(columns=['ShowIndividual', '\"Other\" primary Project ID', 'Primary UZA',\n",
    "                            'UZA Name', 'Agency Name', 'Reporter Acronym'])\n",
    "\n",
    "datasets = {}\n",
    "\n",
    "for i in ntd21:\n",
    "    datasets[i] = ntd21[i].drop(columns=col21)\n",
    "\n",
    "for i in ntd22:\n",
    "    datasets[i] = ntd22[i].drop(columns=col22)\n",
    "    \n",
    "# Merge the data\n",
    "def ntd_merge(df, name):    \n",
    "    # Merge dataframes\n",
    "    merge = pd.merge(ta_clean, df, how='left', on='NTD ID')\n",
    "    group = merge.drop(columns=['NTD ID']).groupby('Project ID')\n",
    "    \n",
    "    # Sum, stack, and export to CSV\n",
    "    stack = group.sum().stack()\n",
    "    return stack.astype('int64').rename(name)\n",
    "\n",
    "for name, df in datasets.iteritems():\n",
    "    datasets[name] = ntd_merge(df, name)\n",
    "    \n",
    "# Average fares\n",
    "datasets['fares'] = pd.Series(datasets['FARES'] / datasets['UPT'], name='fares')\n",
    "\n",
    "# Average speed\n",
    "datasets['speed'] = pd.Series(datasets['VRM'] / datasets['VRH'], name='speed')\n",
    "\n",
    "# Farebox recovery\n",
    "datasets['recovery'] = pd.Series(datasets['FARES'] / datasets['Total OE'], name='recovery')\n",
    "\n",
    "# Vehicle revenue miles per ride\n",
    "datasets['vrm_per_ride'] = pd.Series(datasets['VRM'] / datasets['UPT'], name='vrm_per_ride')\n",
    "\n",
    "# Average headways\n",
    "datasets['headways'] = pd.Series((datasets['DRM'] / datasets['speed']) / datasets['VOMS'], \n",
    "                                 name='headways')\n",
    "\n",
    "# Average trip length\n",
    "datasets['trip_length'] = pd.Series(datasets['PMT'] / datasets['UPT'], name='trip_length')\n",
    "\n",
    "# Delete extra indicators\n",
    "del datasets['FARES']\n",
    "del datasets['VRH']\n",
    "del datasets['Total OE']\n",
    "del datasets['DRM']\n",
    "del datasets['VOMS']\n",
    "del datasets['PMT']"
   ]
  },
  {
   "cell_type": "markdown",
   "metadata": {},
   "source": [
    "## Export to CSV:"
   ]
  },
  {
   "cell_type": "code",
   "execution_count": 147,
   "metadata": {},
   "outputs": [],
   "source": [
    "pd.concat(datasets.values(), axis=1).to_csv('data/output/ntd.csv', index_label=['id', 'year'])"
   ]
  }
 ],
 "metadata": {
  "kernelspec": {
   "display_name": "Python 2",
   "language": "python",
   "name": "python2"
  },
  "language_info": {
   "codemirror_mode": {
    "name": "ipython",
    "version": 2
   },
   "file_extension": ".py",
   "mimetype": "text/x-python",
   "name": "python",
   "nbconvert_exporter": "python",
   "pygments_lexer": "ipython2",
   "version": "2.7.15"
  }
 },
 "nbformat": 4,
 "nbformat_minor": 2
}
