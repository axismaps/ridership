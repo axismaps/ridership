{
 "cells": [
  {
   "cell_type": "markdown",
   "metadata": {},
   "source": [
    "## Import required libraries:"
   ]
  },
  {
   "cell_type": "code",
   "execution_count": 1,
   "metadata": {},
   "outputs": [],
   "source": [
    "import pandas as pd"
   ]
  },
  {
   "cell_type": "markdown",
   "metadata": {},
   "source": [
    "## Load the excel data:"
   ]
  },
  {
   "cell_type": "code",
   "execution_count": 21,
   "metadata": {},
   "outputs": [],
   "source": [
    "ta = pd.read_excel('data/meta/Transit_Agencies_for_Visualization.xlsx', sheet_name='TC AgencyList')\n",
    "upt = pd.read_excel('data/ntd/TS2.2TimeSeriesSysWideOpexpSvc_2.xlsx', sheet_name='UPT')"
   ]
  },
  {
   "cell_type": "markdown",
   "metadata": {},
   "source": [
    "## Clean the data"
   ]
  },
  {
   "cell_type": "code",
   "execution_count": 32,
   "metadata": {
    "scrolled": true
   },
   "outputs": [],
   "source": [
    "# Remove missing NTD ID's\n",
    "ta.dropna(how='all')\n",
    "upt.dropna(subset=['NTD ID'])\n",
    "\n",
    "# Combine project ID's\n",
    "ta['Project ID'] = ta['Project ID'].combine_first(ta['\"Other\" primary Project ID'])\n",
    "\n",
    "# Drop unused columns\n",
    "ta_clean = ta.drop(columns=['ShowIndividual', '\"Other\" primary Project ID', 'Primary UZA', 'UZA Name',\n",
    "                            'Agency Name', 'Reporter Acronym'])\n",
    "upt_clean = upt.drop(columns=['Last Report Year', 'Legacy NTD ID', 'Agency Name', 'Agency Status',\n",
    "                              'Reporter Type', 'City', 'State', 'Census Year', 'Primary UZA Name', \n",
    "                              'UZA', 'UZA Area SQ Miles', 'UZA Population', '2017 Status'])"
   ]
  },
  {
   "cell_type": "markdown",
   "metadata": {},
   "source": [
    "## Merge the data"
   ]
  },
  {
   "cell_type": "code",
   "execution_count": 54,
   "metadata": {},
   "outputs": [],
   "source": [
    "# Merging dataframes\n",
    "upt_merge = pd.merge(ta_clean, upt_clean, how='left', on='NTD ID')\n",
    "group = merge.drop(columns=['NTD ID']).groupby('Project ID')\n",
    "\n",
    "# Sum, stack, and export to CSV\n",
    "stack = group.sum().stack()\n",
    "stack.to_csv('data/output/upt.csv', index_label=['id', 'year'], header=['upt'])"
   ]
  }
 ],
 "metadata": {
  "kernelspec": {
   "display_name": "Python 2",
   "language": "python",
   "name": "python2"
  },
  "language_info": {
   "codemirror_mode": {
    "name": "ipython",
    "version": 3
   },
   "file_extension": ".py",
   "mimetype": "text/x-python",
   "name": "python",
   "nbconvert_exporter": "python",
   "pygments_lexer": "ipython3",
   "version": "3.6.5"
  }
 },
 "nbformat": 4,
 "nbformat_minor": 2
}
