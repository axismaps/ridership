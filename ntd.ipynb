{
 "cells": [
  {
   "cell_type": "markdown",
   "metadata": {},
   "source": [
    "## Import required libraries:"
   ]
  },
  {
   "cell_type": "code",
   "execution_count": 10,
   "metadata": {},
   "outputs": [],
   "source": [
    "import pandas as pd"
   ]
  },
  {
   "cell_type": "markdown",
   "metadata": {},
   "source": [
    "## Load the excel data:"
   ]
  },
  {
   "cell_type": "code",
   "execution_count": null,
   "metadata": {},
   "outputs": [],
   "source": [
    "ta = pd.read_excel('data/meta/Transit_Agencies_for_Visualization.xlsx', \n",
    "                   sheet_name='TC AgencyList')\n",
    "ntd22 = pd.read_excel('data/ntd/TS2.2TimeSeriesSysWideOpexpSvc_2.xlsx', \n",
    "                      sheet_name='UPT')\n",
    "ntd21 = pd.read_excel('data/ntd/TS2.1TimeSeriesOpExpSvcModeTOS_3.xlsx', \n",
    "                      sheet_name='UPT')"
   ]
  },
  {
   "cell_type": "markdown",
   "metadata": {},
   "source": [
    "## Filter data:"
   ]
  },
  {
   "cell_type": "code",
   "execution_count": 14,
   "metadata": {},
   "outputs": [
    {
     "name": "stdout",
     "output_type": "stream",
     "text": [
      "Empty DataFrame\n",
      "Columns: [Last Report Year, NTD ID, Legacy NTD ID, Agency Name, Agency Status, Reporter Type, City, State, Census Year, UZA Name, UZA, UZA Area SQ Miles, UZA Population, 2017 Status, Mode, Service, Mode Status, 1991, 1992, 1993, 1994, 1995, 1996, 1997, 1998, 1999, 2000, 2001, 2002, 2003, 2004, 2005, 2006, 2007, 2008, 2009, 2010, 2011, 2012, 2013, 2014, 2015, 2016, 2017]\n",
      "Index: []\n",
      "\n",
      "[0 rows x 44 columns]\n"
     ]
    }
   ],
   "source": [
    "# Remove missing NTD ID's\n",
    "ta = ta.dropna(how='all')\n",
    "ntd22 = ntd22.dropna(subset=['NTD ID'])\n",
    "ntd21 = ntd21.dropna(subset=['NTD ID'])\n",
    "\n",
    "def filterByMode(df, modes):\n",
    "    return df[df['Mode'].isin(modes)]\n",
    "\n",
    "# Filter bus data by required modes\n",
    "bus_modes = ['MB', 'RB', 'CB', 'TB']\n",
    "bus = filterByMode(ntd21, bus_modes)\n",
    "\n",
    "rail_modes = ['CC', 'CR', 'HR', 'LR', 'MG', 'SR', 'YR']\n",
    "rail = filterByMode(ntd21, rail_modes)\n",
    "print(rail)"
   ]
  },
  {
   "cell_type": "markdown",
   "metadata": {},
   "source": [
    "## Clean the data:"
   ]
  },
  {
   "cell_type": "code",
   "execution_count": 11,
   "metadata": {
    "scrolled": true
   },
   "outputs": [],
   "source": [
    "# Combine project ID's\n",
    "ta['Project ID'] = ta['Project ID'].combine_first(ta['\"Other\" primary Project ID']).astype('int32')\n",
    "\n",
    "# Drop unused columns\n",
    "col22 = ['Last Report Year', 'Legacy NTD ID', 'Agency Name', 'Agency Status', \n",
    "         'Reporter Type', 'City', 'State', 'Census Year', 'Primary UZA Name', \n",
    "         'UZA', 'UZA Area SQ Miles', 'UZA Population', '2017 Status']\n",
    "col21 = ['Last Report Year', 'Legacy NTD ID', 'Agency Name', 'Agency Status',\n",
    "        'Reporter Type', 'City', 'State', 'Census Year', 'UZA Name', 'Mode', 'Service',\n",
    "        'Mode Status', 'UZA', 'UZA Area SQ Miles', 'UZA Population', '2017 Status']\n",
    "\n",
    "ta_clean = ta.drop(columns=['ShowIndividual', '\"Other\" primary Project ID', 'Primary UZA', 'UZA Name',\n",
    "                            'Agency Name', 'Reporter Acronym'])\n",
    "\n",
    "total_clean = ntd22.drop(columns=col22)\n",
    "bus_clean = bus.drop(columns=col21)\n",
    "rail_clean = rail.drop(columns=col21)"
   ]
  },
  {
   "cell_type": "markdown",
   "metadata": {},
   "source": [
    "## Merge the data:"
   ]
  },
  {
   "cell_type": "code",
   "execution_count": 12,
   "metadata": {},
   "outputs": [],
   "source": [
    "def ntd_merge(df, name):    \n",
    "    # Merge dataframes\n",
    "    merge = pd.merge(ta_clean, df, how='left', on='NTD ID')\n",
    "    group = merge.drop(columns=['NTD ID']).groupby('Project ID')\n",
    "    \n",
    "    # Sum, stack, and export to CSV\n",
    "    stack = group.sum().stack()\n",
    "    return stack.astype('int64').rename(name)\n",
    "    \n",
    "datasets = {\n",
    "    'total': upt_clean,\n",
    "    'bus': bus_clean,\n",
    "    'rail': rail_clean\n",
    "}\n",
    "stacks = []\n",
    "\n",
    "for name, df in datasets.iteritems():\n",
    "    stacks.append(ntd_merge(df, name))\n",
    "\n",
    "pd.concat(stacks, axis=1).to_csv('data/output/ntd.csv', index_label=['id', 'year'])"
   ]
  }
 ],
 "metadata": {
  "kernelspec": {
   "display_name": "Python 2",
   "language": "python",
   "name": "python2"
  },
  "language_info": {
   "codemirror_mode": {
    "name": "ipython",
    "version": 2
   },
   "file_extension": ".py",
   "mimetype": "text/x-python",
   "name": "python",
   "nbconvert_exporter": "python",
   "pygments_lexer": "ipython2",
   "version": "2.7.15"
  }
 },
 "nbformat": 4,
 "nbformat_minor": 2
}
