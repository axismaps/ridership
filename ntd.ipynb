{
 "cells": [
  {
   "cell_type": "markdown",
   "metadata": {},
   "source": [
    "## Import required libraries:"
   ]
  },
  {
   "cell_type": "code",
   "execution_count": 3,
   "metadata": {},
   "outputs": [],
   "source": [
    "import pandas as pd"
   ]
  },
  {
   "cell_type": "markdown",
   "metadata": {},
   "source": [
    "## Load the excel data:"
   ]
  },
  {
   "cell_type": "code",
   "execution_count": 5,
   "metadata": {},
   "outputs": [],
   "source": [
    "ta = pd.read_excel('data/meta/Transit_Agencies_for_Visualization.xlsx', sheet_name='TC AgencyList')\n",
    "upt = pd.read_excel('data/ntd/TS2.2TimeSeriesSysWideOpexpSvc_2.xlsx', sheet_name='UPT')\n",
    "bus = pd.read_excel('data/ntd/TS2.1TimeSeriesOpExpSvcModeTOS_3.xlsx', sheet_name='UPT')"
   ]
  },
  {
   "cell_type": "markdown",
   "metadata": {},
   "source": [
    "## Filter data:"
   ]
  },
  {
   "cell_type": "code",
   "execution_count": 17,
   "metadata": {},
   "outputs": [],
   "source": [
    "# Remove missing NTD ID's\n",
    "ta = ta.dropna(how='all')\n",
    "upt = upt.dropna(subset=['NTD ID'])\n",
    "bus = bus.dropna(subset=['NTD ID'])\n",
    "\n",
    "# Filter bus data by required modes\n",
    "modes = ['MB', 'RB', 'CB', 'TB']\n",
    "bus_filtered = bus[bus['Mode'].isin(modes)]"
   ]
  },
  {
   "cell_type": "markdown",
   "metadata": {},
   "source": [
    "## Clean the data"
   ]
  },
  {
   "cell_type": "code",
   "execution_count": 24,
   "metadata": {
    "scrolled": true
   },
   "outputs": [],
   "source": [
    "# Combine project ID's\n",
    "ta['Project ID'] = ta['Project ID'].combine_first(ta['\"Other\" primary Project ID'])\n",
    "\n",
    "# Drop unused columns\n",
    "ta_clean = ta.drop(columns=['ShowIndividual', '\"Other\" primary Project ID', 'Primary UZA', 'UZA Name',\n",
    "                            'Agency Name', 'Reporter Acronym'])\n",
    "upt_clean = upt.drop(columns=['Last Report Year', 'Legacy NTD ID', 'Agency Name', 'Agency Status',\n",
    "                              'Reporter Type', 'City', 'State', 'Census Year', 'Primary UZA Name', \n",
    "                              'UZA', 'UZA Area SQ Miles', 'UZA Population', '2017 Status'])\n",
    "bus_clean = bus_filtered.drop(columns=['Last Report Year', 'Legacy NTD ID', 'Agency Name', 'Agency Status',\n",
    "                              'Reporter Type', 'City', 'State', 'Census Year', 'UZA Name', 'Mode', 'Service',\n",
    "                              'Mode Status', 'UZA', 'UZA Area SQ Miles', 'UZA Population', '2017 Status'])"
   ]
  },
  {
   "cell_type": "markdown",
   "metadata": {},
   "source": [
    "## Merge the data"
   ]
  },
  {
   "cell_type": "code",
   "execution_count": 25,
   "metadata": {},
   "outputs": [
    {
     "name": "stdout",
     "output_type": "stream",
     "text": [
      "Dataset upt written\n",
      "Dataset bus written\n"
     ]
    }
   ],
   "source": [
    "def ntd_merge(df, name):\n",
    "    # Merge dataframes\n",
    "    merge = pd.merge(ta_clean, df, how='left', on='NTD ID')\n",
    "    group = merge.drop(columns=['NTD ID']).groupby('Project ID')\n",
    "    \n",
    "    # Sum, stack, and export to CSV\n",
    "    stack = group.sum().stack()\n",
    "    stack.to_csv('data/output/' + name + '.csv', index_label=['id', 'year'], header=[name])\n",
    "    print('Dataset ' + name + ' written')\n",
    "    \n",
    "ntd_merge(upt_clean, 'upt')\n",
    "ntd_merge(bus_clean, 'bus')"
   ]
  }
 ],
 "metadata": {
  "kernelspec": {
   "display_name": "Python 2",
   "language": "python",
   "name": "python2"
  },
  "language_info": {
   "codemirror_mode": {
    "name": "ipython",
    "version": 2
   },
   "file_extension": ".py",
   "mimetype": "text/x-python",
   "name": "python",
   "nbconvert_exporter": "python",
   "pygments_lexer": "ipython2",
   "version": "2.7.15"
  }
 },
 "nbformat": 4,
 "nbformat_minor": 2
}
